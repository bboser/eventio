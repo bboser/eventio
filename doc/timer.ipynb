{
 "cells": [
  {
   "cell_type": "markdown",
   "metadata": {},
   "source": [
    "# Timer\n",
    "\n",
    "The `timer` module provides `Chronometer` for measuring time intervals and class `Timer` for accessing \n",
    "hardware timers."
   ]
  },
  {
   "cell_type": "markdown",
   "metadata": {},
   "source": [
    "## Chronometer\n",
    "\n",
    "Create, stop, resume, reset ..."
   ]
  },
  {
   "cell_type": "code",
   "execution_count": 1,
   "metadata": {},
   "outputs": [
    {
     "name": "stdout",
     "output_type": "stream",
     "text": [
      "0.0\n",
      "0.01\n",
      "0.02\n",
      "0.03\n",
      "0.04\n",
      "stopped, elapsed time so far 0.05\n",
      "resumed 0.55\n",
      "after reset 0.0\n",
      "running 0.5\n"
     ]
    }
   ],
   "source": [
    "from timer import Chronometer\n",
    "from time import sleep\n",
    "\n",
    "chrono = Chronometer()\n",
    "\n",
    "for i in range(5):\n",
    "    print(chrono.elapsed_time)\n",
    "    sleep(0.01)\n",
    "    \n",
    "chrono.stop()\n",
    "print(\"stopped, elapsed time so far\", chrono.elapsed_time)\n",
    "chrono.resume()\n",
    "sleep(0.5)\n",
    "print(\"resumed\", chrono.elapsed_time)\n",
    "chrono.reset()\n",
    "print(\"after reset\", chrono.elapsed_time)\n",
    "sleep(0.5)\n",
    "print(\"running\", chrono.elapsed_time)"
   ]
  },
  {
   "cell_type": "markdown",
   "metadata": {},
   "source": [
    "With context manager:"
   ]
  },
  {
   "cell_type": "code",
   "execution_count": 2,
   "metadata": {},
   "outputs": [
    {
     "name": "stdout",
     "output_type": "stream",
     "text": [
      "0.7\n"
     ]
    }
   ],
   "source": [
    "from timer import Chronometer\n",
    "from time import sleep\n",
    "\n",
    "with Chronometer() as c:\n",
    "    sleep(0.7)\n",
    "    print(c.elapsed_time)"
   ]
  },
  {
   "cell_type": "markdown",
   "metadata": {},
   "source": [
    "Deinitializing works as usual. However, since Chronometers are realized entirely in software, the garbage collector takes care of life cycle management. Internally the Chronometer uses a single 64-bit value to store its state."
   ]
  },
  {
   "cell_type": "code",
   "execution_count": 3,
   "metadata": {},
   "outputs": [
    {
     "name": "stderr",
     "output_type": "stream",
     "text": [
      "Traceback (most recent call last):\n",
      "  File \"<stdin>\", line 6, in <module>\n",
      "ValueError: Object has been deinitialized and can no longer be used. Create a new object.\n"
     ]
    }
   ],
   "source": [
    "from timer import Chronometer\n",
    "\n",
    "c = Chronometer()\n",
    "c.deinit()\n",
    "# raises ValueError\n",
    "c.elapsed_time"
   ]
  },
  {
   "cell_type": "markdown",
   "metadata": {},
   "source": [
    "## Timer\n",
    "\n",
    "Timers are provided by the hardware. The nRF52840 has five hardware timers of which one is reserved for the \"SoftDevice\" (Bluetooth). This leaves up to four for the application.\n",
    "\n",
    "API mimicks `threading.Timer` API.\n",
    "\n",
    "**BUG:** Exceptions in interrupt callback are silently ignored."
   ]
  },
  {
   "cell_type": "code",
   "execution_count": 4,
   "metadata": {},
   "outputs": [
    {
     "name": "stdout",
     "output_type": "stream",
     "text": [
      "started\n",
      "after 500 ms 0.499749 sec elapsed\n",
      "Callback, n=1, elapsed=0.8s\n",
      "Callback, n=2, elapsed=1.401s\n",
      "Callback, n=3, elapsed=2.102s\n",
      "cancelled\n"
     ]
    }
   ],
   "source": [
    "%softreset\n",
    "\n",
    "from timer import Timer, Chronometer\n",
    "from time import sleep\n",
    "import micropython\n",
    "\n",
    "# required for error handling in callback functions\n",
    "micropython.alloc_emergency_exception_buf(100)\n",
    "\n",
    "c = Chronometer()\n",
    "n = 0\n",
    "\n",
    "def call_back(timer):\n",
    "    # Note: since the hardware has already reset the timer when invoking the call_back,\n",
    "    #       timer.elapsed_time is (nearly) zero\n",
    "    global n\n",
    "    n += 1\n",
    "    print(\"Callback, n={}, elapsed={}s\".format(n, c.elapsed_time))\n",
    "    if n >= 3:\n",
    "        timer.cancel()\n",
    "        print(\"cancelled\")\n",
    "    \n",
    "    \n",
    "t = Timer(interval=0.7, function=call_back, mode=Timer.PERIODIC)\n",
    "t.start()\n",
    "print(\"started\")\n",
    "sleep(0.5)\n",
    "print(\"after 500 ms\", t.elapsed_time, \"sec elapsed\")\n",
    "\n",
    "# wait for callback (otherwise Jupyter thinks the program has ended and does not wait for the output)\n",
    "for i in range(40):\n",
    "    # sleep in small increments to give the Python VM a chance to run the callback\n",
    "    sleep(0.1)"
   ]
  },
  {
   "cell_type": "markdown",
   "metadata": {},
   "source": [
    "### Danger Zone: Fast Interrupts\n",
    "\n",
    "The default behavior is to schedule callbacks until the MicroPython VM is ready. Specifying `fast=True` executes the callback immediately. Although this avoids a delay (and is critical in some situation), fast interrupts have to be used with **great care**. In particular, no memory allocation (heap) is permitted in \"fast\" callbacks. I.e. **no objects may be created**. Also some libraries  allocate memory (e.g. `print`!) and hence cannot be used from fast callbacks.\n",
    "\n",
    "Use fast callbacks at your own risk and only if you fully understand the implications. Consult the [Micropython Documentation](https://docs.micropython.org/en/latest/reference/isr_rules.html) for more information."
   ]
  },
  {
   "cell_type": "code",
   "execution_count": 5,
   "metadata": {},
   "outputs": [
    {
     "name": "stdout",
     "output_type": "stream",
     "text": [
      "started\n",
      "after 0.3 sec: 0.299266 sec elapsed\n",
      "Callback 2, n=1, elapsed=1.2 sec\n",
      "Callback 2, n=2, elapsed=2.399 sec\n",
      "Callback 2, n=3, elapsed=3.598 sec\n"
     ]
    }
   ],
   "source": [
    "%softreset\n",
    "\n",
    "from timer import Timer, Chronometer\n",
    "from time import sleep\n",
    "import micropython \n",
    "\n",
    "# required for error handling in callbacks\n",
    "micropython.alloc_emergency_exception_buf(100)\n",
    "\n",
    "c = Chronometer()\n",
    "n = 0\n",
    "\n",
    "def call_back_2(arg):\n",
    "    # called by the scheduler, ok to allocate memory and use print\n",
    "    global c\n",
    "    print(\"Callback 2, n={}, elapsed={} sec\".format(n, c.elapsed_time))\n",
    "\n",
    "def call_back_1(timer):\n",
    "    # Do the urgent stuff here (control the turbo booster, whatever your app demands)\n",
    "    # nothing urgent - just for illustration\n",
    "    global n\n",
    "    n += 1\n",
    "    if n >= 3:\n",
    "        timer.cancel()\n",
    "    # schedule stuff that may allocate memory for when the MicroPython VM is ready\n",
    "    micropython.schedule(call_back_2, 0)\n",
    "        \n",
    "t = Timer(interval=1.2, function=call_back_1, mode=Timer.PERIODIC, fast=True)\n",
    "t.start()\n",
    "print(\"started\")\n",
    "sleep(0.3)\n",
    "print(\"after 0.3 sec:\", t.elapsed_time, \"sec elapsed\")\n",
    "\n",
    "# wait for callback (otherwise Jupyter thinks the program has ended and does not wait for the output)\n",
    "for i in range(40):\n",
    "    # sleep in small increments to give the Python VM a chance to run the callback\n",
    "    sleep(0.1)"
   ]
  },
  {
   "cell_type": "markdown",
   "metadata": {},
   "source": [
    "### Check if code allocates memory\n",
    "\n",
    "Use the code below to check if code allocates memory as a diagnostic if it's save to use in a fast interrupt handler."
   ]
  },
  {
   "cell_type": "code",
   "execution_count": 6,
   "metadata": {},
   "outputs": [
    {
     "name": "stdout",
     "output_type": "stream",
     "text": [
      "hello 1 7 3.4\n",
      "test complete\n"
     ]
    }
   ],
   "source": [
    "%softreset\n",
    "\n",
    "import micropython\n",
    "\n",
    "x = None\n",
    "\n",
    "micropython.heap_lock()\n",
    "\n",
    "# safe, since x has been created before\n",
    "x = 3+4\n",
    "\n",
    "# print is safe, apparently\n",
    "print(\"hello\", 1, x, 3.4)\n",
    "\n",
    "micropython.heap_unlock()\n",
    "\n",
    "print(\"test complete\")"
   ]
  },
  {
   "cell_type": "code",
   "execution_count": 7,
   "metadata": {},
   "outputs": [
    {
     "name": "stderr",
     "output_type": "stream",
     "text": [
      "MemoryError: \n"
     ]
    }
   ],
   "source": [
    "%softreset\n",
    "\n",
    "import micropython\n",
    "\n",
    "micropython.heap_lock()\n",
    "\n",
    "# raises MemoryError since a new object (x) is created\n",
    "# x = 3\n",
    "\n",
    "# format raises MemoryError\n",
    "print(\"int={} float={}\".format(3, 5.2))\n",
    "\n",
    "micropython.heap_unlock()\n",
    "\n",
    "print(\"test complete\")"
   ]
  },
  {
   "cell_type": "markdown",
   "metadata": {},
   "source": [
    "### Check how many timers are available"
   ]
  },
  {
   "cell_type": "code",
   "execution_count": 8,
   "metadata": {},
   "outputs": [
    {
     "name": "stdout",
     "output_type": "stream",
     "text": [
      "created 1 Timer(s)\n",
      "created 2 Timer(s)\n",
      "created 3 Timer(s)\n"
     ]
    },
    {
     "name": "stderr",
     "output_type": "stream",
     "text": [
      "Traceback (most recent call last):\n",
      "  File \"<stdin>\", line 9, in <module>\n",
      "  File \"<stdin>\", line 6, in <module>\n",
      "RuntimeError: All timers are in use\n"
     ]
    }
   ],
   "source": [
    "%softreset\n",
    "\n",
    "from timer import Timer\n",
    "\n",
    "for i in range(5):\n",
    "    try:\n",
    "        timer = Timer()\n",
    "        print(\"created {} Timer(s)\".format(i+1))\n",
    "    except ValueError as e:\n",
    "        print(\"attempt to create timer resulted in an error:\", e)"
   ]
  },
  {
   "cell_type": "code",
   "execution_count": null,
   "metadata": {},
   "outputs": [],
   "source": []
  }
 ],
 "metadata": {
  "kernelspec": {
   "display_name": "CircuitPython",
   "language": "python",
   "name": "circuitpython"
  },
  "language_info": {
   "codemirror_mode": {
    "name": "python",
    "version": 3
   },
   "file_extension": ".py",
   "mimetype": "text/x-python",
   "name": "python",
   "pygments_lexer": "python3",
   "version": "3"
  }
 },
 "nbformat": 4,
 "nbformat_minor": 2
}

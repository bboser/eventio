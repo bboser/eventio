{
 "cells": [
  {
   "cell_type": "markdown",
   "metadata": {},
   "source": [
    "# Event IO\n",
    "\n",
    "An event loop that puts the CPU into power saving mode when no tasks are ready to run. It uses events (interrupts) to enable tasks."
   ]
  },
  {
   "cell_type": "markdown",
   "metadata": {},
   "source": [
    "## [A tale of event loops](https://github.com/bboser/a-tale-of-event-loops)"
   ]
  },
  {
   "cell_type": "code",
   "execution_count": 1,
   "metadata": {},
   "outputs": [],
   "source": [
    "async def hello(name):\n",
    "    print('Hello, {}'.format(name))"
   ]
  },
  {
   "cell_type": "code",
   "execution_count": 2,
   "metadata": {},
   "outputs": [
    {
     "name": "stdout",
     "output_type": "stream",
     "text": [
      "<class 'generator'>\n",
      "['__next__', 'close', 'pend_throw', 'send', 'throw']\n"
     ]
    }
   ],
   "source": [
    "coro = hello('world')\n",
    "print(type(coro))\n",
    "print(dir(coro))"
   ]
  },
  {
   "cell_type": "markdown",
   "metadata": {},
   "source": [
    "Send `None` to coro to get it going. Raises StopIteration when it finishes (after print statement)."
   ]
  },
  {
   "cell_type": "code",
   "execution_count": 3,
   "metadata": {},
   "outputs": [
    {
     "name": "stdout",
     "output_type": "stream",
     "text": [
      "Hello, world\n",
      "got StopIteration\n"
     ]
    }
   ],
   "source": [
    "task = hello('world')\n",
    "try:\n",
    "    task.send(None)\n",
    "except StopIteration:\n",
    "    print(\"got StopIteration\")"
   ]
  },
  {
   "cell_type": "code",
   "execution_count": 4,
   "metadata": {},
   "outputs": [
    {
     "name": "stdout",
     "output_type": "stream",
     "text": [
      "Got error, msg = 'Hello, world!'\n"
     ]
    }
   ],
   "source": [
    "class Hello(Exception):\n",
    "    def __init__(self, name):\n",
    "        self.name = name\n",
    "    def __str__(self):\n",
    "        return \"Hello, {}!\".format(self.name)\n",
    "    \n",
    "async def hello(name):\n",
    "    raise Hello(name)\n",
    "    \n",
    "task = hello('world')\n",
    "try:\n",
    "    task.send(None)\n",
    "except Exception as e:\n",
    "    print(\"Got error, msg = '{}'\".format(e))"
   ]
  },
  {
   "cell_type": "markdown",
   "metadata": {},
   "source": [
    "## A dialog with the event loop"
   ]
  },
  {
   "cell_type": "markdown",
   "metadata": {},
   "source": [
    "The corouting declarator is not implemented.\n",
    "\n",
    "Let's try first without ..."
   ]
  },
  {
   "cell_type": "code",
   "execution_count": 5,
   "metadata": {},
   "outputs": [
    {
     "name": "stdout",
     "output_type": "stream",
     "text": [
      "await called\n",
      "Hello California\n",
      "StopIteration\n"
     ]
    }
   ],
   "source": [
    "# Awaitable nice\n",
    "\n",
    "class Nice():\n",
    "    \n",
    "    def __await__(self):\n",
    "        print(\"await called\")\n",
    "        yield\n",
    "        \n",
    "nice = Nice().__await__\n",
    "\n",
    "async def hello(name):\n",
    "    await nice()\n",
    "    print(\"Hello {}\".format(name))\n",
    "    \n",
    "task = hello('California')\n",
    "task.send(None)\n",
    "try:\n",
    "    task.send(None)\n",
    "except StopIteration:\n",
    "    print(\"StopIteration\")"
   ]
  },
  {
   "cell_type": "markdown",
   "metadata": {},
   "source": [
    "### Declare @coroutine decorator"
   ]
  },
  {
   "cell_type": "code",
   "execution_count": 6,
   "metadata": {},
   "outputs": [],
   "source": [
    "# Coroutine decorator\n",
    "\n",
    "def coroutine(func):\n",
    "    \"\"\"Decorator for marking coroutines.\"\"\"\n",
    "    return func\n",
    "\n",
    "type_coro  = type((lambda: (yield))())  # Generator type\n",
    "type_corof = type((lambda: (yield)))    # Generator function\n",
    "\n",
    "# there ought to be a better way ...\n",
    "def iscoroutine(obj):\n",
    "    return isinstance(obj, type_coro)"
   ]
  },
  {
   "cell_type": "markdown",
   "metadata": {},
   "source": [
    "Now with the decorator ..."
   ]
  },
  {
   "cell_type": "code",
   "execution_count": 7,
   "metadata": {},
   "outputs": [
    {
     "name": "stdout",
     "output_type": "stream",
     "text": [
      "nice called\n",
      "Hello again, California\n",
      "StopIteration\n"
     ]
    }
   ],
   "source": [
    "@coroutine\n",
    "def nice():\n",
    "    print(\"nice called\")\n",
    "    yield\n",
    "    \n",
    "async def hello(name):\n",
    "    await nice()\n",
    "    print(\"Hello again, {}\".format(name))\n",
    "    \n",
    "task = hello('California')\n",
    "task.send(None)\n",
    "try:\n",
    "    task.send(None)\n",
    "except StopIteration:\n",
    "    print(\"StopIteration\")"
   ]
  },
  {
   "cell_type": "markdown",
   "metadata": {},
   "source": [
    "## Looping"
   ]
  },
  {
   "cell_type": "code",
   "execution_count": 8,
   "metadata": {},
   "outputs": [
    {
     "name": "stdout",
     "output_type": "stream",
     "text": [
      "<generator object 'hello' at 20008530>\n",
      "await 0\n",
      "await 1\n",
      "await 2\n",
      "await 3\n",
      "await 4\n",
      "Hello world, after 6x send (5 await, 1 StopIteration) ...\n"
     ]
    }
   ],
   "source": [
    "@coroutine\n",
    "def nice():\n",
    "    yield\n",
    "    \n",
    "async def hello(name):\n",
    "    for i in range(5):\n",
    "        print(\"await\", i)\n",
    "        await nice()\n",
    "    print(\"Hello {}, after 6x send (5 await, 1 StopIteration) ...\".format(name))\n",
    "    \n",
    "def run_until_complete(task):\n",
    "    print(task)\n",
    "    try:\n",
    "        while True:\n",
    "            task.send(None)\n",
    "    except StopIteration:\n",
    "        pass\n",
    "        \n",
    "run_until_complete(hello('world'))"
   ]
  },
  {
   "cell_type": "markdown",
   "metadata": {},
   "source": [
    "## Spawning child tasks"
   ]
  },
  {
   "cell_type": "code",
   "execution_count": 9,
   "metadata": {},
   "outputs": [
    {
     "name": "stdout",
     "output_type": "stream",
     "text": [
      "StopIteration \n",
      "Hello, world\n",
      "StopIteration \n"
     ]
    }
   ],
   "source": [
    "@coroutine\n",
    "def spawn(task):\n",
    "    yield task\n",
    "\n",
    "@coroutine\n",
    "def nice():\n",
    "    yield\n",
    "\n",
    "async def hello(name):\n",
    "    await nice()\n",
    "    print(\"Hello,\", name)\n",
    "    \n",
    "async def main():\n",
    "    await spawn(hello('world'))\n",
    "    \n",
    "def run_until_complete(task):\n",
    "    # tasks is a list of tuples (task, data to send)\n",
    "    # for now there is only the main task (until main spawns hello)\n",
    "    tasks = [(task, None)]\n",
    "    while tasks:\n",
    "        # Round-robin between a set of tasks\n",
    "        # we may now have more than one and want to be fair\n",
    "        # Schedule current tasks, start with empty queue for next while loop \n",
    "        queue, tasks = tasks, []\n",
    "        for task, data in queue:\n",
    "            # resume the task *once*\n",
    "            try:\n",
    "                data = task.send(data)\n",
    "            except StopIteration as s:\n",
    "                print(\"StopIteration\", s)\n",
    "                pass\n",
    "            except Exception as error:\n",
    "                # prevent errors in tasks from ending the loop\n",
    "                print(\"Error\", error)\n",
    "            else:\n",
    "                # schedule the child task\n",
    "                if iscoroutine(data):\n",
    "                    tasks.append((data, None))\n",
    "                # reschedule parent task\n",
    "                tasks.append((task, None))\n",
    "                \n",
    "run_until_complete(main())"
   ]
  },
  {
   "cell_type": "code",
   "execution_count": 10,
   "metadata": {},
   "outputs": [
    {
     "name": "stdout",
     "output_type": "stream",
     "text": [
      "Hello, world\n",
      "(after join)\n"
     ]
    }
   ],
   "source": [
    "def spawn(task):\n",
    "    child = yield ('spawn', task)\n",
    "    return child\n",
    "\n",
    "@coroutine\n",
    "def nice():\n",
    "    yield\n",
    "    \n",
    "@coroutine\n",
    "def join(task):\n",
    "    yield ('join', task)\n",
    "\n",
    "async def hello(name):\n",
    "    await nice()\n",
    "    print(\"Hello,\", name)\n",
    "    \n",
    "async def main():\n",
    "    child = await spawn(hello('world'))\n",
    "    # wait for child task to complete\n",
    "    await join(child)\n",
    "    print('(after join)')\n",
    "    \n",
    "def run_until_complete(task):\n",
    "    # tasks is a list of tuples (task, data to send)\n",
    "    # for now there is only the main task (until main spawns hello)\n",
    "    tasks = [(task, None)]\n",
    "    # keep track of tasks to resume when a task completes\n",
    "    watch = {}\n",
    "    while tasks:\n",
    "        # Round-robin between a set of tasks\n",
    "        # we may now have more than one and want to be fair\n",
    "        # Schedule current tasks, start with empty queue for next while loop \n",
    "        queue, tasks = tasks, []\n",
    "        for task, data in queue:\n",
    "            # resume the task *once*\n",
    "            try:\n",
    "                data = task.send(data)\n",
    "            except StopIteration:\n",
    "                # wait up tasks wating on this one\n",
    "                tasks.extend((t, None) for t in watch.pop(task, []))\n",
    "            except Exception as error:\n",
    "                # prevent errors in tasks from ending the loop\n",
    "                print(\"Error\", error)\n",
    "            else:\n",
    "                if data and data[0] == 'spawn':\n",
    "                    tasks.append((data[1], None))\n",
    "                    tasks.append((task, data[1]))\n",
    "                elif data and data[0] == 'join':\n",
    "                    watch.setdefault(data[1], []).append(task)\n",
    "                else:\n",
    "                    tasks.append((task, None))\n",
    "                \n",
    "run_until_complete(main())"
   ]
  },
  {
   "cell_type": "markdown",
   "metadata": {},
   "source": [
    "For practical reasons, we'll probably want to have some kind **`Task` wrapper for coroutine objects**. This comes handy to expose an API for cancellation and to handle some race conditions such as the child task ending before the parent task attempts to `join()` it (can you spot the bug?)\n",
    "\n",
    "Passing the child task's return value back as the result of `await join()` and propagating the exception that crashed the child are left as exercises to the reader."
   ]
  }
 ],
 "metadata": {
  "kernelspec": {
   "display_name": "CircuitPython",
   "language": "python",
   "name": "circuitpython"
  },
  "language_info": {
   "codemirror_mode": {
    "name": "python",
    "version": 3
   },
   "file_extension": ".py",
   "mimetype": "text/x-python",
   "name": "python",
   "pygments_lexer": "python3",
   "version": "3"
  }
 },
 "nbformat": 4,
 "nbformat_minor": 2
}

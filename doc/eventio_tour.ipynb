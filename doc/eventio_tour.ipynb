{
 "cells": [
  {
   "cell_type": "markdown",
   "metadata": {},
   "source": [
    "# EventIO Tutorial\n",
    "\n",
    "The need to perform several actions concurrently arises frequently in microcontroller applications. Sensor outputs need to be read, motors and LEDs controlled, and buttons or touchpads checked for user input.\n",
    "\n",
    "While it is possible in principle to perform all these actions sequentially in a loop, except in simple applications such solutions are difficult to get correct and even harder to maintain when additional capabilities are introduced.\n",
    "\n",
    "This tutorial introduces `eventio`, a *partial* implementation of `curio`, a [library for concurrent processing](https://curio.readthedocs.io). \n",
    "\n",
    "## Blinking one LED\n",
    "\n",
    "Let's start the tour with \"blink\", the proverbial \"Hello World\" application for microcontrollers (change the name of the LEDs to match your board)."
   ]
  },
  {
   "cell_type": "code",
   "execution_count": 2,
   "metadata": {},
   "outputs": [],
   "source": [
    "from board import LED_R, LED_G, LED_B\n",
    "import digitalio\n",
    "import time\n",
    "\n",
    "def blink(color, pin, period):\n",
    "    p = digitalio.DigitalInOut(pin)\n",
    "    p.direction = digitalio.Direction.OUTPUT\n",
    "    for i in range(10):\n",
    "        time.sleep(period/2)\n",
    "        p.value = not p.value\n",
    "    p.deinit()\n",
    "    \n",
    "blink(\"red\", LED_R, 0.5)"
   ]
  },
  {
   "cell_type": "markdown",
   "metadata": {},
   "source": [
    "The code blinks the LED the specified number of times and then stops. Nothing unusual.\n",
    "\n",
    "## Blinking multiple LEDs simulataneously\n",
    "\n",
    "Now suppose we wanted to blink several LEDs at individual rates, say 0.7ms and 0.4ms periods. Simply calling calling `blink` twice with different parameters won't produce the desired effect:"
   ]
  },
  {
   "cell_type": "code",
   "execution_count": 3,
   "metadata": {},
   "outputs": [],
   "source": [
    "blink(\"red\",   LED_R, 0.7)\n",
    "blink(\"green\", LED_G, 0.4)"
   ]
  },
  {
   "cell_type": "markdown",
   "metadata": {},
   "source": [
    "This blinks the red light followed by the green light, one after the other. To blink them simultaneously but at different rates, modify `blink` as follows:"
   ]
  },
  {
   "cell_type": "code",
   "execution_count": 8,
   "metadata": {},
   "outputs": [],
   "source": [
    "import eventio\n",
    "\n",
    "async def blink(color, pin, period):\n",
    "    p = digitalio.DigitalInOut(pin)\n",
    "    p.direction = digitalio.Direction.OUTPUT\n",
    "    for i in range(10):\n",
    "        await eventio.sleep(period/2)\n",
    "        p.value = not p.value\n",
    "    p.deinit()"
   ]
  },
  {
   "cell_type": "markdown",
   "metadata": {},
   "source": [
    "The differences are importing `eventio` and peceeding the function definition with `async`. This marks it as a `coroutine`, a piece of code that can run concurrently with other operations. \n",
    "\n",
    "The call to `time.sleep` is replaced by `await eventio.sleep`. The keyword `await` tells the Python interpreter to perform other activity, turing on and off other LEDs in this case, simultaneously.\n",
    "\n",
    "The following code blinkes the red, green, and blue LED simultaneously:"
   ]
  },
  {
   "cell_type": "code",
   "execution_count": 11,
   "metadata": {},
   "outputs": [],
   "source": [
    "async def main():\n",
    "    r = await eventio.spawn(blink, \"red  \", LED_R, 0.7)\n",
    "    g = await eventio.spawn(blink, \"green\", LED_G, 0.4)\n",
    "    b = await eventio.spawn(blink, \"blue \", LED_B, 0.5)\n",
    "    \n",
    "eventio.run(main) "
   ]
  },
  {
   "cell_type": "markdown",
   "metadata": {},
   "source": [
    "The calls to `eventio.spawn` create three separate coroutines which all run in parallel. The call to `eventio.run` starts the process.\n",
    "\n",
    "In addition to the visual confirmation, we can add printed output to convince us that the coroutines indeed run concurrently:"
   ]
  },
  {
   "cell_type": "code",
   "execution_count": 12,
   "metadata": {},
   "outputs": [
    {
     "name": "stdout",
     "output_type": "stream",
     "text": [
      "all LEDs blinking ...\n",
      "red   at    155 ms,  155 ms since last call,      5 ms extra\n",
      "blue  at    260 ms,  260 ms since last call,     10 ms extra\n",
      "red   at    307 ms,  151 ms since last call,      1 ms extra\n",
      "green at    357 ms,  357 ms since last call,      7 ms extra\n",
      "red   at    459 ms,  151 ms since last call,      0 ms extra\n",
      "blue  at    511 ms,  250 ms since last call,     -0 ms extra\n",
      "red   at    611 ms,  151 ms since last call,      0 ms extra\n",
      "green at    709 ms,  351 ms since last call,      0 ms extra\n",
      "red   at    763 ms,  151 ms since last call,      1 ms extra\n",
      "blue  at    765 ms,  252 ms since last call,      2 ms extra\n",
      "red   at    915 ms,  151 ms since last call,      1 ms extra\n",
      "blue  at   1018 ms,  251 ms since last call,      0 ms extra\n",
      "green at   1060 ms,  350 ms since last call,     -0 ms extra\n",
      "red   at   1067 ms,  151 ms since last call,      1 ms extra\n",
      "red   at   1219 ms,  151 ms since last call,      1 ms extra\n",
      "blue  at   1270 ms,  251 ms since last call,      0 ms extra\n",
      "red   at   1371 ms,  151 ms since last call,      1 ms extra\n",
      "green at   1412 ms,  350 ms since last call,     -0 ms extra\n",
      "blue  at   1522 ms,  251 ms since last call,      0 ms extra\n",
      "red   at   1524 ms,  152 ms since last call,      2 ms extra\n",
      "red   is done\n",
      "green at   1765 ms,  351 ms since last call,      0 ms extra\n",
      "blue  at   1774 ms,  251 ms since last call,      1 ms extra\n",
      "blue  at   2026 ms,  251 ms since last call,      1 ms extra\n",
      "green at   2117 ms,  351 ms since last call,      1 ms extra\n",
      "blue  at   2277 ms,  250 ms since last call,      0 ms extra\n",
      "green at   2469 ms,  351 ms since last call,      1 ms extra\n",
      "blue  at   2530 ms,  251 ms since last call,      0 ms extra\n",
      "blue  is done\n",
      "green at   2821 ms,  351 ms since last call,      1 ms extra\n",
      "green at   3173 ms,  351 ms since last call,      1 ms extra\n",
      "green at   3525 ms,  351 ms since last call,      1 ms extra\n",
      "green is done\n",
      "Program ran for 3.528 seconds with 3.089569 % CPU utilization\n"
     ]
    }
   ],
   "source": [
    "%softreset\n",
    "\n",
    "from timer import Chronometer\n",
    "from board import LED_R, LED_G, LED_B\n",
    "import eventio\n",
    "import digitalio\n",
    "\n",
    "chrono = Chronometer()\n",
    "\n",
    "async def blink(color, pin, period):\n",
    "    global chrono\n",
    "    p = digitalio.DigitalInOut(pin)\n",
    "    p.direction = digitalio.Direction.OUTPUT\n",
    "    last_time = 0\n",
    "    for i in range(10):\n",
    "        await eventio.sleep(period/2)\n",
    "        p.value = not p.value\n",
    "        elapsed = chrono.elapsed_time\n",
    "        delta = elapsed-last_time\n",
    "        extra_delay = delta - period/2\n",
    "        print(\"{} at {:6.0f} ms, {:4.0f} ms since last call, {:6.0f} ms extra\".format( \\\n",
    "            color, 1000*elapsed, 1000*delta, 1000*extra_delay))\n",
    "        last_time = chrono.elapsed_time\n",
    "    p.deinit()\n",
    "    print(\"{} is done\".format(color))\n",
    "    \n",
    "async def main():\n",
    "    r = await eventio.spawn(blink, \"red  \", LED_R, 0.3)\n",
    "    g = await eventio.spawn(blink, \"green\", LED_G, 0.7)\n",
    "    b = await eventio.spawn(blink, \"blue \", LED_B, 0.5)\n",
    "    print(\"all LEDs blinking ...\")\n",
    "    await g.join()   # wait for coroutine g to terminate\n",
    "    # print some statistics\n",
    "    kernel = await eventio.get_kernel()\n",
    "    print(\"Program ran for {} seconds with {} % CPU utilization\".format(\n",
    "        kernel.uptime(), kernel.load_average()\n",
    "    ))\n",
    "    \n",
    "eventio.run(main)"
   ]
  },
  {
   "cell_type": "markdown",
   "metadata": {},
   "source": [
    "The printed output confirms that the coroutines indeed run simultataneously. Also shown is the time (in milli-seconds) at which the LED is turned on or off. Analyzing them you will notice that each LED is called at multiples of half it's period, plus a small \"processing delay\". Try to program all of this in a single loop ... And this is just for blinking LEDs; many real applications have more complex requirements!\n",
    "\n",
    "Unlike calling `time.sleep`, which litterally instructs the processor to do `nothing` except dissipate power and heat up the planet, a call to `eventio.sleep` checks for other work to be done, which in this example amounts to checking if one of the `blink` coroutines is ready to run. If no coroutine is ready to execute, `eventio.sleep` powers the processor down, which reduces the supply current by more than three orders-of-magnitude. \n",
    "\n",
    "Indeed, while the entire program ran for several seconds, the processor was in the high-power `awake` state less than 2 percent of the time, corresponding to a 50 times reduction of the energy used. Given the populatity of programs that blink LEDs, `eventio` has the potential of making a significant contribution towards saving the planet!\n",
    "\n",
    "## Input\n",
    "\n",
    "In the current implementation the LEDs blink for a fixed number of times. The code below stops when button `MODE` (adapt to your board) is pressed."
   ]
  },
  {
   "cell_type": "code",
   "execution_count": 13,
   "metadata": {},
   "outputs": [
    {
     "name": "stdout",
     "output_type": "stream",
     "text": [
      "All LEDs blinking ... press button to stop!\n",
      "Button pressed! Cancelling blinkers ...\n",
      "red   cancelled\n",
      "green cancelled\n",
      "blue  cancelled\n",
      "Program ran for 5.186 seconds with 2.757424 % CPU utilization\n"
     ]
    }
   ],
   "source": [
    "%softreset\n",
    "\n",
    "from timer import Chronometer\n",
    "from board import LED_R, LED_G, LED_B, MODE\n",
    "import eventio\n",
    "import digitalio\n",
    "\n",
    "chrono = Chronometer()\n",
    "\n",
    "sw1_event = eventio.PinEvent(MODE)\n",
    "\n",
    "async def blink(color, pin, period):\n",
    "    global chrono\n",
    "    p = digitalio.DigitalInOut(pin)\n",
    "    p.direction = digitalio.Direction.OUTPUT\n",
    "    try:\n",
    "        while True:\n",
    "            await eventio.sleep(period/2)\n",
    "            p.value = not p.value\n",
    "            chrono.reset()\n",
    "    except eventio.CancelledError:\n",
    "        print(\"{} cancelled\".format(color))\n",
    "        p.value = False   # LED off\n",
    "        p.deinit()\n",
    "        raise\n",
    "    \n",
    "async def main():\n",
    "    r = await eventio.spawn(blink, \"red  \", LED_R, 0.3)\n",
    "    g = await eventio.spawn(blink, \"green\", LED_G, 0.7)\n",
    "    b = await eventio.spawn(blink, \"blue \", LED_B, 0.5)\n",
    "    print(\"All LEDs blinking ... press button to stop!\")\n",
    "    await sw1_event.wait()\n",
    "    print(\"Button pressed! Cancelling blinkers ...\")\n",
    "    await r.cancel()\n",
    "    await g.cancel()\n",
    "    await b.cancel()\n",
    "    # print some statistics\n",
    "    kernel = await eventio.get_kernel()\n",
    "    print(\"Program ran for {} seconds with {} % CPU utilization\".format(\n",
    "        kernel.uptime(), kernel.load_average()\n",
    "    ))\n",
    "    \n",
    "eventio.run(main)"
   ]
  },
  {
   "cell_type": "markdown",
   "metadata": {},
   "source": [
    "## Concurrency and Parallel Processing\n",
    "\n",
    "Although it appears as if coroutines run in parallel, only one is active at any given time. This is similar to other computers (laptops, desktops, etc) which give the appearance of running several programs simultaneously but are in fact switching rapidly between different tasks (multi-core processors do run more than one program concurrently). If the processor alternates rapidly e.g. between displaying a movie and a spreadsheet, it appears as if both were running simultaneously, just as the different colored LEDs are blinking concurrently.\n",
    "\n",
    "A big difference between the parallel processing of laptop and desktop computers and `eventio` is the approach taken to switching between tasks. The former use a technique known as **\"preemptive multitasking\"**. In this case, the operating system (e.g. Linux or Windows) uses a timer to rapidly (e.g. every 50ms) switch between tasks: The currently running program is temporarily suspended, it's state saved, and a different task is permitted to execute. This process repeats, with each task getting a turn. If a task is current blocked, e.g. waiting for input, it is skipped until it is ready again.\n",
    "\n",
    "With preemptive multitasking, tasks are not aware when execution is interrupted and have no control over when this happens. By contrast, `eventio` uses a different form of task switching called **\"cooperative multitasking\"**. In this scenario, task have full control over when they relinquish the CPU, namely when calling `await`. In other words, a coroutine can be assured that no other task will interrupt it until it signals its \"consent\" with `await`. The duration of the suspension depends on the statement called and the tasks that are waiting. E.g. `await eventio.sleep(1)` suspends the task for at least one second, but could also suspend it for longer if other tasks need the CPU.\n",
    "\n",
    "Preemptive and cooperative multitasking have both advantages and drawbacks, and which solution is better depends on the application. For small microcontrollers with limited memory and processing speed, cooperative multitasking is attractive since it generally uses less memory. More significantly, however, is the fact that task switching happens only at well defined instances marked with the keyword `await`.\n",
    "\n",
    "One of the most challenging aspect of parallel processing is ensuring proper use of shared resources. For example, imagine you want to read the value from a sensor over `I2C`. The driver first sends the address of the sensor to get its attention. Then asks the sensor send its value over the bus.\n",
    "\n",
    "If this sequence is interrupted at an unfortunate moment, by another task, the program may not function as intended. For example, if after addressing the sensor a different task gets control and adresses a different sensor, once control returns to the first task the request to read the sensor data goes to the wrong sensor producing the wrong or no answer.\n",
    "\n",
    "Such errors are difficult to detect, as they may occur only infrequently and are difficult to reproduce. With cooperative multitasking a task can be assured that it will not be interrupted unless calling `await`. While this simple solution does not address all situations, it substantially reduces the opportunities for errors in concurrent programs.\n",
    "\n",
    "The main drawback of cooperative multitasking is that a (rouge) task can prevent all others from running. E.g. if in the above example, the call to `eventio.sleep` is replaced by `time.sleep` (and the `await` keyword removed), the first coroutine will run exclusively until it finishes. In a desktop environment this obviously would not be practical - a simple programming mistake could freeze the entire computer. On a microcontroller, however, the entire application is usually under control of a single user who can make sure that this does not happen.\n",
    "\n",
    "## Caveats\n",
    "\n",
    "In addition to the situation where a coroutine fails to call `await`, either due to a programming error or maliciously, thus preventing other tasks to run, there are a few other errors to avoid.\n",
    "\n",
    "The first, and most notrious (the kind where everything looks right but still refuses to \"work\") is forgetting the `await` keyword, as in the example below:"
   ]
  },
  {
   "cell_type": "code",
   "execution_count": 15,
   "metadata": {},
   "outputs": [
    {
     "name": "stdout",
     "output_type": "stream",
     "text": [
      "Done!\n"
     ]
    }
   ],
   "source": [
    "%softreset\n",
    "\n",
    "from board import LED_R\n",
    "import digitalio\n",
    "import eventio\n",
    "\n",
    "async def blink(color, pin, period):\n",
    "    p = digitalio.DigitalInOut(pin)\n",
    "    p.direction = digitalio.Direction.OUTPUT\n",
    "    for i in range(100):\n",
    "        # ERROR: no await\n",
    "        eventio.sleep(period/2)\n",
    "        p.value = not p.value\n",
    "    p.deinit()\n",
    "    \n",
    "eventio.run(blink, \"red\", LED_R, 1)\n",
    "print(\"Done!\")"
   ]
  },
  {
   "cell_type": "markdown",
   "metadata": {},
   "source": [
    "This program runs very quickly without error, but `eventio.sleep(period/2)` does not \"sleep\", hence resulting in the LED blinking very rapidly (faster than discernible).\n",
    "\n",
    "The result of `eventio.sleep(1)` is a generator (or coroutine in some versions of Python):"
   ]
  },
  {
   "cell_type": "code",
   "execution_count": 16,
   "metadata": {},
   "outputs": [
    {
     "name": "stdout",
     "output_type": "stream",
     "text": [
      "<generator object 'sleep' at 200081c0>\n"
     ]
    }
   ],
   "source": [
    "print(eventio.sleep(1))"
   ]
  },
  {
   "cell_type": "markdown",
   "metadata": {},
   "source": [
    "It is the `await` keyword that instructs the interpreter to actually perform the function. Unfortunately in Python the statements with and without `await` are syntactically correct, so watch out!\n",
    "\n",
    "The other common error is calling `time.sleep` instead of `eventio.sleep`. The former, with `await`, gives an error and is thus easy to spot. But without `await`, `time.sleep` is of course a valid call, except that it blocks the CPU, preventing other tasks from running. \n",
    "\n",
    "If a concurrent program does not function as expected, these are some of the things to check!"
   ]
  }
 ],
 "metadata": {
  "kernelspec": {
   "display_name": "CircuitPython",
   "language": "python",
   "name": "circuitpython"
  },
  "language_info": {
   "codemirror_mode": {
    "name": "python",
    "version": 3
   },
   "file_extension": ".py",
   "mimetype": "text/x-python",
   "name": "python",
   "pygments_lexer": "python3",
   "version": "3"
  }
 },
 "nbformat": 4,
 "nbformat_minor": 2
}

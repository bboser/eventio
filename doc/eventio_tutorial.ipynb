{
 "cells": [
  {
   "cell_type": "markdown",
   "metadata": {},
   "source": [
    "# EventIO Tutorial\n",
    "\n",
    "* [Curio Tutorial and Reference](https://curio.readthedocs.io)\n",
    "* [Curio github repo](https://github.com/dabeaz/curio)\n",
    "* [A tale of event loops](https://github.com/AndreLouisCaron/a-tale-of-event-loops)"
   ]
  },
  {
   "cell_type": "code",
   "execution_count": 1,
   "metadata": {},
   "outputs": [
    {
     "name": "stdout",
     "output_type": "stream",
     "text": [
      "countdown test\n",
      "T-minus 3\n",
      "T-minus 2\n",
      "T-minus 1\n",
      "Took 1.508 seconds, 0.397878 % CPU utilization\n"
     ]
    }
   ],
   "source": [
    "%softreset\n",
    "\n",
    "import eventio\n",
    "\n",
    "print(\"countdown test\")\n",
    "\n",
    "async def countdown(n):\n",
    "    while n > 0:\n",
    "        print('T-minus', n)\n",
    "        await eventio.sleep(0.5)\n",
    "        n -= 1\n",
    "    kernel = await eventio.get_kernel()\n",
    "    print(\"Took {} seconds, {} % CPU utilization\".format(\n",
    "        kernel.uptime(), kernel.load_average()\n",
    "    ))\n",
    "\n",
    "eventio.run(countdown, 3)"
   ]
  },
  {
   "cell_type": "code",
   "execution_count": 2,
   "metadata": {},
   "outputs": [
    {
     "name": "stdout",
     "output_type": "stream",
     "text": [
      "Playing\n",
      "T-minus 3\n",
      "T-minus 2\n",
      "T-minus 1\n",
      "Ok, saving my work!\n",
      "cancel kid: True\n",
      "Took 1.514 seconds, 0.8586526 % CPU utilization\n"
     ]
    }
   ],
   "source": [
    "%softreset\n",
    "\n",
    "from eventio import *\n",
    "\n",
    "async def kid():\n",
    "    print(\"Playing\")\n",
    "    try:\n",
    "        await sleep(3)\n",
    "        print(\"kid finished playing\")\n",
    "    except CancelledError:\n",
    "        print(\"Ok, saving my work!\")\n",
    "        raise\n",
    "\n",
    "async def countdown(n):\n",
    "    child = await spawn(kid())\n",
    "    while n > 0:\n",
    "        print('T-minus', n)\n",
    "        await sleep(0.5)\n",
    "        n -= 1\n",
    "    print(\"cancel kid:\", await child.cancel())\n",
    "    kernel = await get_kernel()\n",
    "    print(\"Took {} seconds, {} % CPU utilization\".format(\n",
    "        kernel.uptime(), kernel.load_average()\n",
    "    ))\n",
    "\n",
    "run(countdown, 3)"
   ]
  },
  {
   "cell_type": "code",
   "execution_count": 3,
   "metadata": {},
   "outputs": [
    {
     "name": "stdout",
     "output_type": "stream",
     "text": [
      "Can I play?\n",
      "Yes, go play\n",
      "Building the Millenium Falcon in Minecraft\n",
      "Hi, my name is Paul\n",
      "Playing Minecraft\n",
      "Hi, my name is Anna\n",
      "Playing Minecraft\n",
      "Hi, my name is Tom\n",
      "Playing Minecraft\n",
      "Let's go\n",
      "T-minus 4\n",
      "T-minus 3\n",
      "T-minus 2\n",
      "T-minus 1\n",
      "We're leaving!\n",
      "I warned you!\n",
      "Paul going home\n",
      "Anna going home\n",
      "Tom going home\n",
      "Fine. Saving my work.\n",
      "cancel kid: True\n",
      "Leaving!\n"
     ]
    }
   ],
   "source": [
    "%softreset\n",
    "\n",
    "import eventio\n",
    "\n",
    "start_event = eventio.Event()\n",
    "\n",
    "async def countdown(n):\n",
    "    while n > 0:\n",
    "        print('T-minus', n)\n",
    "        await eventio.sleep(0.5)\n",
    "        n -= 1\n",
    "\n",
    "async def friend(name):\n",
    "    print('Hi, my name is', name)\n",
    "    print('Playing Minecraft')\n",
    "    try:\n",
    "        await eventio.sleep(10)\n",
    "        print(name, \"done playing\")\n",
    "    except eventio.CancelledError:\n",
    "        print(name, 'going home')\n",
    "        raise\n",
    "\n",
    "async def kid():\n",
    "    print('Can I play?')\n",
    "    await start_event.wait()\n",
    "\n",
    "    print('Building the Millenium Falcon in Minecraft')\n",
    "\n",
    "    paul = await eventio.spawn(friend('Paul'))\n",
    "    anna = await eventio.spawn(friend('Anna'))\n",
    "    tom  = await eventio.spawn(friend('Tom'))\n",
    "    try:\n",
    "        await eventio.sleep(10)\n",
    "    except eventio.CancelledError:\n",
    "        await paul.cancel()\n",
    "        await anna.cancel()\n",
    "        await  tom.cancel()\n",
    "        print('Fine. Saving my work.')\n",
    "        raise\n",
    "\n",
    "async def parent():\n",
    "    kid_task = await eventio.spawn(kid())\n",
    "    await eventio.sleep(1)\n",
    "\n",
    "    print('Yes, go play')\n",
    "    await start_event.set()\n",
    "    await eventio.sleep(4)\n",
    "\n",
    "    print(\"Let's go\")\n",
    "    count_task = await eventio.spawn(countdown(4))\n",
    "    await count_task.join()\n",
    "\n",
    "    print(\"We're leaving!\")\n",
    "    print('I warned you!')\n",
    "    print(\"cancel kid:\", await kid_task.cancel())\n",
    "    print('Leaving!')\n",
    "    \n",
    "eventio.run(parent)"
   ]
  },
  {
   "cell_type": "markdown",
   "metadata": {},
   "source": [
    "## Timeout\n",
    "\n",
    "Watch out: `timout_after` and `cancel` observe \"premptive scheduling conventions\": cancellation takes effect only when the tasks calls `await`. There is no **hard** kill me now!\n",
    "\n",
    "#### Without `timeout_after`"
   ]
  },
  {
   "cell_type": "code",
   "execution_count": 4,
   "metadata": {},
   "outputs": [
    {
     "name": "stdout",
     "output_type": "stream",
     "text": [
      " 0.00s long_task is very busy for a while ...\n",
      " 0.01s main spawned Task long_task, arg=None, status=active\n",
      " 0.01s main spawned Task canceller, arg=None, status=active\n",
      " 2.01s Whoa, I did not even get 3 seconds!\n",
      " 2.02s Result 'None'\n"
     ]
    }
   ],
   "source": [
    "%softreset\n",
    "\n",
    "from timer import Chronometer\n",
    "import eventio\n",
    "\n",
    "chrono = Chronometer()\n",
    "\n",
    "async def long_task(duration):\n",
    "    print(\"{:5.2f}s long_task is very busy for a while ...\".format(chrono.elapsed_time))\n",
    "    try:\n",
    "        await eventio.sleep(duration)\n",
    "    except eventio.CancelledError:\n",
    "        print(\"{:5.2f}s Whoa, I did not even get {} seconds!\".format(chrono.elapsed_time, duration))\n",
    "        raise\n",
    "    print(\"{:5.2f}s long_task finally done\".format(chrono.elapsed_time))\n",
    "    return \"very important result\"\n",
    "\n",
    "async def canceller(task, seconds):\n",
    "    await eventio.sleep(seconds)\n",
    "    await task.cancel(blocking=True)\n",
    "        \n",
    "async def main():\n",
    "    task = await eventio.spawn(long_task, 3)\n",
    "    print(\"{:5.2f}s main spawned {}\".format(chrono.elapsed_time, task))\n",
    "    canceller_task = await eventio.spawn(canceller, task, 2)\n",
    "    print(\"{:5.2f}s main spawned {}\".format(chrono.elapsed_time, canceller_task))\n",
    "    res = await task.join()\n",
    "    print(\"{:5.2f}s Result '{}'\".format(chrono.elapsed_time, res))\n",
    "    \n",
    "eventio.run(main)"
   ]
  },
  {
   "cell_type": "markdown",
   "metadata": {},
   "source": [
    "#### With `timeout_after`"
   ]
  },
  {
   "cell_type": "code",
   "execution_count": 5,
   "metadata": {},
   "outputs": [
    {
     "name": "stdout",
     "output_type": "stream",
     "text": [
      " 0.01s long_task is very busy for a while ...\n",
      " 0.40s busy   0\n",
      " 0.81s busy   1\n",
      " 1.21s busy   2\n",
      " 1.61s busy   3\n",
      " 2.01s busy   4\n",
      " 2.01s Whoa, I didn't get 5 seconds!\n",
      " 2.02s res = None\n",
      " 2.02s cancel busy: True\n"
     ]
    }
   ],
   "source": [
    "%softreset\n",
    "\n",
    "from timer import Chronometer\n",
    "import eventio\n",
    "\n",
    "chrono = Chronometer()\n",
    "\n",
    "async def busy():\n",
    "    for i in range(12):\n",
    "        await eventio.sleep(0.4)\n",
    "        print(\"{:5.2f}s busy {:3d}\".format(chrono.elapsed_time, i))\n",
    "\n",
    "async def long_task(duration):\n",
    "    print(\"{:5.2f}s long_task is very busy for a while ...\".format(chrono.elapsed_time))\n",
    "    try:\n",
    "        await eventio.sleep(duration)\n",
    "    except eventio.CancelledError:\n",
    "        print(\"{:5.2f}s Whoa, I didn't get {} seconds!\".format(chrono.elapsed_time, duration))\n",
    "        raise\n",
    "    print(\"{:5.2f}s long_task finally done\".format(chrono.elapsed_time))\n",
    "    return \"very important result\"\n",
    "\n",
    "async def main():\n",
    "    busy_task = await eventio.spawn(busy)\n",
    "    res  = await eventio.timeout_after(2, long_task, 5)\n",
    "    print(\"{:5.2f}s res = {}\".format(chrono.elapsed_time, res))\n",
    "    print(\"{:5.2f}s cancel busy: {}\".format(chrono.elapsed_time, await busy_task.cancel()))\n",
    "    \n",
    "eventio.run(main)"
   ]
  },
  {
   "cell_type": "code",
   "execution_count": null,
   "metadata": {},
   "outputs": [],
   "source": []
  }
 ],
 "metadata": {
  "kernelspec": {
   "display_name": "CircuitPython",
   "language": "python",
   "name": "circuitpython"
  },
  "language_info": {
   "codemirror_mode": {
    "name": "python",
    "version": 3
   },
   "file_extension": ".py",
   "mimetype": "text/x-python",
   "name": "python",
   "pygments_lexer": "python3",
   "version": "3"
  }
 },
 "nbformat": 4,
 "nbformat_minor": 2
}
